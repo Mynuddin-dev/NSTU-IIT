{
 "cells": [
  {
   "cell_type": "code",
   "execution_count": 3,
   "id": "92adb321",
   "metadata": {},
   "outputs": [
    {
     "name": "stdout",
     "output_type": "stream",
     "text": [
      "Game is start and Car is running......\n",
      "Enter a value in front of my car 0 or 1 : 1\n",
      "There is a car infront of my car SO \n",
      "Wait for sometime(car running)......\n",
      "check Is the left or right side is clear or not : 0\n",
      "Turn left or Right and forward.\n",
      "Car is running...........\n",
      "Is the car reach the goal state : 1\n",
      "Hurrah finally i reach my Goal\n"
     ]
    }
   ],
   "source": [
    "import time \n",
    "start_car = True\n",
    "\n",
    "# Start the car \n",
    "while (start_car):\n",
    "    \n",
    "    print(\"Car is running booooooo ..............................\")\n",
    "    \n",
    "    time.sleep(5)\n",
    "    \n",
    "    car_in_front = int(input(\"Enter a value 0/1 to check is there any car infront of my car : \"))\n",
    "    \n",
    "    # 0 means there is no car in front of my car \n",
    "    # 1 Means there is a car in front of my car\n",
    "    \n",
    "    if car_in_front == 0:\n",
    "        \n",
    "        print(\"Car is running booooooo ......\")\n",
    "\n",
    "        time.sleep(5)\n",
    "        \n",
    "        car_state = int(input(\"Is the car reach the goal state : \"))\n",
    "        \n",
    "        if car_state== 1:\n",
    "            \n",
    "            print(\"Hurrah finally i reach my Goal\")\n",
    "            \n",
    "            start_car = False\n",
    "            \n",
    "            break\n",
    "    \n",
    "        else:\n",
    "            \n",
    "            print(\"Car is running until reach the goal\")\n",
    "            start_car = False\n",
    "    \n",
    "    \n",
    "    else:\n",
    "        print(\"There is a car infront of my car SO \")\n",
    "        print(\"Wait for sometime(car running , just slow the car or balance the speed)......\")\n",
    "        time.sleep(5)\n",
    "        \n",
    "        left_right_side = int(input(\"check Is the left or right side is clear or not : \"))\n",
    "        \n",
    "        # 0 means clear \n",
    "        # 1 means unclear\n",
    "        \n",
    "        if left_right_side==0:\n",
    "            \n",
    "            print(\"Turn left or Right and forward.\")\n",
    "            print(\"Car is running booooooo ...........\")\n",
    "            time.sleep(5)\n",
    "            \n",
    "            car_state = int(input(\"Is the car reach the goal state : \"))\n",
    "            \n",
    "            if car_state==1:\n",
    "                \n",
    "                print(\"Hurrah finally i reach my Goal\")\n",
    "                start_car = False\n",
    "                break\n",
    "            \n",
    "            else:\n",
    "                print(\"Car is running until reach the goal\")\n",
    "                \n",
    "            \n",
    "        "
   ]
  },
  {
   "cell_type": "code",
   "execution_count": null,
   "id": "d5d36318",
   "metadata": {},
   "outputs": [],
   "source": []
  }
 ],
 "metadata": {
  "kernelspec": {
   "display_name": "Python 3 (ipykernel)",
   "language": "python",
   "name": "python3"
  },
  "language_info": {
   "codemirror_mode": {
    "name": "ipython",
    "version": 3
   },
   "file_extension": ".py",
   "mimetype": "text/x-python",
   "name": "python",
   "nbconvert_exporter": "python",
   "pygments_lexer": "ipython3",
   "version": "3.9.7"
  }
 },
 "nbformat": 4,
 "nbformat_minor": 5
}
